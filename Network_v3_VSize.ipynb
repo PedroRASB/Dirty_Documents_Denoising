{
 "cells": [
  {
   "cell_type": "code",
   "execution_count": 1,
   "metadata": {},
   "outputs": [
    {
     "name": "stderr",
     "output_type": "stream",
     "text": [
      "/home/pedro/anaconda3/envs/EA979/lib/python3.5/site-packages/h5py/__init__.py:36: FutureWarning: Conversion of the second argument of issubdtype from `float` to `np.floating` is deprecated. In future, it will be treated as `np.float64 == np.dtype(float).type`.\n",
      "  from ._conv import register_converters as _register_converters\n",
      "Using TensorFlow backend.\n"
     ]
    }
   ],
   "source": [
    "import png\n",
    "import os\n",
    "import numpy as np\n",
    "import matplotlib.pyplot as plt\n",
    "import keras"
   ]
  },
  {
   "cell_type": "markdown",
   "metadata": {},
   "source": [
    "# Importing data "
   ]
  },
  {
   "cell_type": "code",
   "execution_count": 2,
   "metadata": {},
   "outputs": [],
   "source": [
    "def import_train_images():\n",
    "    train_images=[]\n",
    "    files=os.listdir('/home/pedro/Documents/AutoEncoder/train')\n",
    "    print(files)\n",
    "    print(len(files)) #144\n",
    "    for file in files:\n",
    "        string='/home/pedro/Documents/AutoEncoder/train/'+file\n",
    "        image=png.Reader(filename=string)\n",
    "        w,h,pixels,metadata=image.read_flat()\n",
    "        image=np.array(pixels)\n",
    "        if len(image)==226800:\n",
    "            image=image.reshape((420,540))              \n",
    "        else:\n",
    "            image=image.reshape((258,540))\n",
    "        train_images.append(image)\n",
    "    validation_images=train_images[0:28] #20%\n",
    "    train_images=train_images[28::]\n",
    "    return((train_images,validation_images)) #20%\n"
   ]
  },
  {
   "cell_type": "code",
   "execution_count": 3,
   "metadata": {},
   "outputs": [],
   "source": [
    "def import_train_labels():\n",
    "    train_labels=[]\n",
    "    files=os.listdir('/home/pedro/Documents/AutoEncoder/train_cleaned')\n",
    "    for file in files:\n",
    "        string='/home/pedro/Documents/AutoEncoder/train_cleaned/'+file\n",
    "        image=png.Reader(filename=string)\n",
    "        w,h,pixels,metadata=image.read_flat()\n",
    "        image=np.array(pixels)\n",
    "        if len(image)==226800:\n",
    "            image=image.reshape((420,540))              \n",
    "        else:\n",
    "            image=image.reshape((258,540))\n",
    "        train_labels.append(image)\n",
    "    validation_labels=train_labels[0:28] #20%\n",
    "    train_labels=train_labels[28::]\n",
    "    return((train_labels,validation_labels))   "
   ]
  },
  {
   "cell_type": "code",
   "execution_count": 4,
   "metadata": {},
   "outputs": [
    {
     "name": "stdout",
     "output_type": "stream",
     "text": [
      "['194.png', '167.png', '12.png', '177.png', '14.png', '198.png', '51.png', '110.png', '164.png', '161.png', '180.png', '149.png', '59.png', '24.png', '54.png', '176.png', '213.png', '162.png', '50.png', '179.png', '138.png', '101.png', '15.png', '26.png', '57.png', '90.png', '45.png', '159.png', '117.png', '72.png', '71.png', '74.png', '125.png', '155.png', '104.png', '182.png', '207.png', '129.png', '122.png', '6.png', '141.png', '158.png', '183.png', '137.png', '78.png', '120.png', '17.png', '9.png', '95.png', '215.png', '132.png', '174.png', '195.png', '96.png', '84.png', '206.png', '200.png', '204.png', '36.png', '140.png', '68.png', '203.png', '98.png', '168.png', '21.png', '11.png', '119.png', '173.png', '80.png', '23.png', '102.png', '156.png', '33.png', '131.png', '186.png', '30.png', '20.png', '201.png', '42.png', '89.png', '188.png', '66.png', '210.png', '152.png', '147.png', '53.png', '114.png', '143.png', '165.png', '32.png', '123.png', '150.png', '75.png', '126.png', '116.png', '86.png', '146.png', '191.png', '170.png', '185.png', '189.png', '62.png', '105.png', '77.png', '134.png', '93.png', '3.png', '69.png', '18.png', '144.png', '153.png', '41.png', '81.png', '107.png', '92.png', '212.png', '192.png', '8.png', '38.png', '216.png', '47.png', '63.png', '39.png', '56.png', '35.png', '99.png', '128.png', '108.png', '83.png', '87.png', '29.png', '2.png', '113.png', '48.png', '65.png', '44.png', '111.png', '5.png', '209.png', '197.png', '60.png', '27.png', '135.png', '171.png']\n",
      "144\n"
     ]
    }
   ],
   "source": [
    "(train_images,validation_images)=import_train_images()"
   ]
  },
  {
   "cell_type": "code",
   "execution_count": 5,
   "metadata": {},
   "outputs": [],
   "source": [
    "(train_labels,validation_labels)=import_train_labels()"
   ]
  },
  {
   "cell_type": "code",
   "execution_count": 6,
   "metadata": {},
   "outputs": [
    {
     "data": {
      "text/plain": [
       "array([[239, 233, 231, ..., 169, 176, 186],\n",
       "       [232, 233, 231, ..., 150, 160, 180],\n",
       "       [235, 238, 236, ..., 157, 151, 154],\n",
       "       ...,\n",
       "       [208, 207, 210, ..., 193, 190, 196],\n",
       "       [210, 214, 221, ..., 194, 199, 212],\n",
       "       [219, 222, 224, ..., 191, 206, 222]], dtype=uint8)"
      ]
     },
     "execution_count": 6,
     "metadata": {},
     "output_type": "execute_result"
    }
   ],
   "source": [
    "train_images[1]"
   ]
  },
  {
   "cell_type": "code",
   "execution_count": 7,
   "metadata": {},
   "outputs": [
    {
     "data": {
      "text/plain": [
       "116"
      ]
     },
     "execution_count": 7,
     "metadata": {},
     "output_type": "execute_result"
    }
   ],
   "source": [
    "len(train_images)"
   ]
  },
  {
   "cell_type": "code",
   "execution_count": 8,
   "metadata": {},
   "outputs": [
    {
     "data": {
      "text/plain": [
       "<matplotlib.image.AxesImage at 0x7fb73f9ca1d0>"
      ]
     },
     "execution_count": 8,
     "metadata": {},
     "output_type": "execute_result"
    },
    {
     "data": {
      "image/png": "[encoded data removed]",
      "text/plain": [
       "<Figure size 432x288 with 1 Axes>"
      ]
     },
     "metadata": {},
     "output_type": "display_data"
    }
   ],
   "source": [
    "plt.imshow(train_images[50], cmap='gray')"
   ]
  },
  {
   "cell_type": "code",
   "execution_count": 9,
   "metadata": {},
   "outputs": [
    {
     "data": {
      "text/plain": [
       "<matplotlib.image.AxesImage at 0x7fb73df2f7b8>"
      ]
     },
     "execution_count": 9,
     "metadata": {},
     "output_type": "execute_result"
    },
    {
     "data": {
      "image/png": "[encoded data removed]",
      "text/plain": [
       "<Figure size 432x288 with 1 Axes>"
      ]
     },
     "metadata": {},
     "output_type": "display_data"
    }
   ],
   "source": [
    "plt.imshow(train_labels[50], cmap='gray')"
   ]
  },
  {
   "cell_type": "markdown",
   "metadata": {},
   "source": [
    "# Normalizing data"
   ]
  },
  {
   "cell_type": "code",
   "execution_count": 10,
   "metadata": {},
   "outputs": [
    {
     "data": {
      "text/plain": [
       "420"
      ]
     },
     "execution_count": 10,
     "metadata": {},
     "output_type": "execute_result"
    }
   ],
   "source": [
    "len(train_images[0])"
   ]
  },
  {
   "cell_type": "code",
   "execution_count": 11,
   "metadata": {},
   "outputs": [],
   "source": [
    "def Data_split(img,lab): #split data depending on image size (540 rows or 258 rows)\n",
    "    small_images=[]\n",
    "    small_labels=[]\n",
    "    big_images=[]\n",
    "    big_labels=[]\n",
    "    for i in range(len(img)):\n",
    "        if len(img[i])==258:\n",
    "            small_images.append(img[i])\n",
    "            small_labels.append(lab[i])\n",
    "        if len(img[i])==420:\n",
    "            big_images.append(img[i])\n",
    "            big_labels.append(lab[i])\n",
    "    small_images=np.array(small_images)\n",
    "    small_images=small_images.astype('float32')/255\n",
    "    small_labels=np.array(small_labels)\n",
    "    small_labels=small_labels.astype('float32')/255\n",
    "    big_images=np.array(big_images)\n",
    "    big_images=big_images.astype('float32')/255\n",
    "    big_labels=np.array(big_labels)\n",
    "    big_labels=big_labels.astype('float32')/255\n",
    "    from keras import backend as K\n",
    "    rows = 258\n",
    "    cols = 540\n",
    "    if K.image_data_format() == 'channels_first':\n",
    "        small_images = small_images.reshape(small_images.shape[0], 1, rows, cols)\n",
    "        small_labels = small_labels.reshape(small_labels.shape[0], 1, rows, cols)\n",
    "        input_shape = (1, rows, cols)\n",
    "    else:\n",
    "        small_images = small_images.reshape(small_images.shape[0], rows, cols, 1)\n",
    "        small_labels = small_labels.reshape(small_labels.shape[0], rows, cols, 1)\n",
    "        input_shape = (rows, cols, 1)\n",
    "    rows = 420\n",
    "    cols = 540\n",
    "    if K.image_data_format() == 'channels_first':\n",
    "        big_images = big_images.reshape(big_images.shape[0], 1, rows, cols)\n",
    "        big_labels = big_labels.reshape(big_labels.shape[0], 1, rows, cols)\n",
    "        input_shape = (1, rows, cols)\n",
    "    else:\n",
    "        big_images = big_images.reshape(big_images.shape[0], rows, cols, 1)\n",
    "        big_labels = big_labels.reshape(big_labels.shape[0], rows, cols, 1)\n",
    "        input_shape = (rows, cols, 1)\n",
    "    return((small_images,small_labels,big_images,big_labels))"
   ]
  },
  {
   "cell_type": "code",
   "execution_count": 12,
   "metadata": {},
   "outputs": [],
   "source": [
    "(small_images,small_labels,big_images,big_labels)=Data_split(train_images,train_labels)"
   ]
  },
  {
   "cell_type": "code",
   "execution_count": 13,
   "metadata": {},
   "outputs": [],
   "source": [
    "(small_images_val,small_labels_val,big_images_val,big_labels_val)=Data_split(validation_images,validation_labels)"
   ]
  },
  {
   "cell_type": "code",
   "execution_count": 14,
   "metadata": {},
   "outputs": [
    {
     "data": {
      "text/plain": [
       "array([[[[0.9372549 ],\n",
       "         [0.9137255 ],\n",
       "         [0.90588236],\n",
       "         ...,\n",
       "         [0.6627451 ],\n",
       "         [0.6901961 ],\n",
       "         [0.7294118 ]],\n",
       "\n",
       "        [[0.9098039 ],\n",
       "         [0.9137255 ],\n",
       "         [0.90588236],\n",
       "         ...,\n",
       "         [0.5882353 ],\n",
       "         [0.627451  ],\n",
       "         [0.7058824 ]],\n",
       "\n",
       "        [[0.92156863],\n",
       "         [0.93333334],\n",
       "         [0.9254902 ],\n",
       "         ...,\n",
       "         [0.6156863 ],\n",
       "         [0.5921569 ],\n",
       "         [0.6039216 ]],\n",
       "\n",
       "        ...,\n",
       "\n",
       "        [[0.8156863 ],\n",
       "         [0.8117647 ],\n",
       "         [0.8235294 ],\n",
       "         ...,\n",
       "         [0.75686276],\n",
       "         [0.74509805],\n",
       "         [0.76862746]],\n",
       "\n",
       "        [[0.8235294 ],\n",
       "         [0.8392157 ],\n",
       "         [0.8666667 ],\n",
       "         ...,\n",
       "         [0.7607843 ],\n",
       "         [0.78039217],\n",
       "         [0.83137256]],\n",
       "\n",
       "        [[0.85882354],\n",
       "         [0.87058824],\n",
       "         [0.8784314 ],\n",
       "         ...,\n",
       "         [0.7490196 ],\n",
       "         [0.80784315],\n",
       "         [0.87058824]]],\n",
       "\n",
       "\n",
       "       [[[0.9372549 ],\n",
       "         [0.9137255 ],\n",
       "         [0.90588236],\n",
       "         ...,\n",
       "         [0.6627451 ],\n",
       "         [0.6901961 ],\n",
       "         [0.7294118 ]],\n",
       "\n",
       "        [[0.9098039 ],\n",
       "         [0.9137255 ],\n",
       "         [0.90588236],\n",
       "         ...,\n",
       "         [0.5882353 ],\n",
       "         [0.627451  ],\n",
       "         [0.7058824 ]],\n",
       "\n",
       "        [[0.92156863],\n",
       "         [0.93333334],\n",
       "         [0.9254902 ],\n",
       "         ...,\n",
       "         [0.6156863 ],\n",
       "         [0.5921569 ],\n",
       "         [0.6039216 ]],\n",
       "\n",
       "        ...,\n",
       "\n",
       "        [[0.8156863 ],\n",
       "         [0.8117647 ],\n",
       "         [0.8235294 ],\n",
       "         ...,\n",
       "         [0.75686276],\n",
       "         [0.74509805],\n",
       "         [0.76862746]],\n",
       "\n",
       "        [[0.8235294 ],\n",
       "         [0.8392157 ],\n",
       "         [0.8666667 ],\n",
       "         ...,\n",
       "         [0.7607843 ],\n",
       "         [0.78039217],\n",
       "         [0.83137256]],\n",
       "\n",
       "        [[0.85882354],\n",
       "         [0.87058824],\n",
       "         [0.8784314 ],\n",
       "         ...,\n",
       "         [0.7490196 ],\n",
       "         [0.80784315],\n",
       "         [0.87058824]]],\n",
       "\n",
       "\n",
       "       [[[0.90588236],\n",
       "         [0.8980392 ],\n",
       "         [0.89411765],\n",
       "         ...,\n",
       "         [0.8784314 ],\n",
       "         [0.8666667 ],\n",
       "         [0.87058824]],\n",
       "\n",
       "        [[0.9098039 ],\n",
       "         [0.91764706],\n",
       "         [0.9137255 ],\n",
       "         ...,\n",
       "         [0.8666667 ],\n",
       "         [0.8392157 ],\n",
       "         [0.84313726]],\n",
       "\n",
       "        [[0.8862745 ],\n",
       "         [0.89411765],\n",
       "         [0.8862745 ],\n",
       "         ...,\n",
       "         [0.8509804 ],\n",
       "         [0.85490197],\n",
       "         [0.85490197]],\n",
       "\n",
       "        ...,\n",
       "\n",
       "        [[0.9882353 ],\n",
       "         [0.99607843],\n",
       "         [0.99215686],\n",
       "         ...,\n",
       "         [0.9372549 ],\n",
       "         [0.8745098 ],\n",
       "         [0.84313726]],\n",
       "\n",
       "        [[0.99215686],\n",
       "         [0.99215686],\n",
       "         [0.9764706 ],\n",
       "         ...,\n",
       "         [0.9372549 ],\n",
       "         [0.92941177],\n",
       "         [0.88235295]],\n",
       "\n",
       "        [[0.98039216],\n",
       "         [0.9843137 ],\n",
       "         [0.9607843 ],\n",
       "         ...,\n",
       "         [0.9490196 ],\n",
       "         [0.92941177],\n",
       "         [0.92941177]]],\n",
       "\n",
       "\n",
       "       ...,\n",
       "\n",
       "\n",
       "       [[[0.9137255 ],\n",
       "         [0.91764706],\n",
       "         [0.9254902 ],\n",
       "         ...,\n",
       "         [0.90588236],\n",
       "         [0.90588236],\n",
       "         [0.9137255 ]],\n",
       "\n",
       "        [[0.9098039 ],\n",
       "         [0.8980392 ],\n",
       "         [0.8980392 ],\n",
       "         ...,\n",
       "         [0.9254902 ],\n",
       "         [0.92156863],\n",
       "         [0.9137255 ]],\n",
       "\n",
       "        [[0.8666667 ],\n",
       "         [0.87058824],\n",
       "         [0.88235295],\n",
       "         ...,\n",
       "         [0.9137255 ],\n",
       "         [0.92156863],\n",
       "         [0.9254902 ]],\n",
       "\n",
       "        ...,\n",
       "\n",
       "        [[0.8627451 ],\n",
       "         [0.85882354],\n",
       "         [0.8509804 ],\n",
       "         ...,\n",
       "         [0.93333334],\n",
       "         [0.95686275],\n",
       "         [0.94509804]],\n",
       "\n",
       "        [[0.8784314 ],\n",
       "         [0.8666667 ],\n",
       "         [0.8666667 ],\n",
       "         ...,\n",
       "         [0.92156863],\n",
       "         [0.95686275],\n",
       "         [0.96862745]],\n",
       "\n",
       "        [[0.9019608 ],\n",
       "         [0.89411765],\n",
       "         [0.88235295],\n",
       "         ...,\n",
       "         [0.9254902 ],\n",
       "         [0.9254902 ],\n",
       "         [0.9411765 ]]],\n",
       "\n",
       "\n",
       "       [[[0.9372549 ],\n",
       "         [0.9137255 ],\n",
       "         [0.90588236],\n",
       "         ...,\n",
       "         [0.6627451 ],\n",
       "         [0.6901961 ],\n",
       "         [0.7294118 ]],\n",
       "\n",
       "        [[0.9098039 ],\n",
       "         [0.9137255 ],\n",
       "         [0.90588236],\n",
       "         ...,\n",
       "         [0.5882353 ],\n",
       "         [0.627451  ],\n",
       "         [0.7058824 ]],\n",
       "\n",
       "        [[0.92156863],\n",
       "         [0.93333334],\n",
       "         [0.9254902 ],\n",
       "         ...,\n",
       "         [0.6156863 ],\n",
       "         [0.5921569 ],\n",
       "         [0.6039216 ]],\n",
       "\n",
       "        ...,\n",
       "\n",
       "        [[0.8156863 ],\n",
       "         [0.8117647 ],\n",
       "         [0.8235294 ],\n",
       "         ...,\n",
       "         [0.75686276],\n",
       "         [0.74509805],\n",
       "         [0.76862746]],\n",
       "\n",
       "        [[0.8235294 ],\n",
       "         [0.8392157 ],\n",
       "         [0.8666667 ],\n",
       "         ...,\n",
       "         [0.7607843 ],\n",
       "         [0.78039217],\n",
       "         [0.83137256]],\n",
       "\n",
       "        [[0.85882354],\n",
       "         [0.87058824],\n",
       "         [0.8784314 ],\n",
       "         ...,\n",
       "         [0.7490196 ],\n",
       "         [0.80784315],\n",
       "         [0.87058824]]],\n",
       "\n",
       "\n",
       "       [[[0.8901961 ],\n",
       "         [0.88235295],\n",
       "         [0.8980392 ],\n",
       "         ...,\n",
       "         [0.8901961 ],\n",
       "         [0.8666667 ],\n",
       "         [0.8627451 ]],\n",
       "\n",
       "        [[0.90588236],\n",
       "         [0.89411765],\n",
       "         [0.8745098 ],\n",
       "         ...,\n",
       "         [0.89411765],\n",
       "         [0.8745098 ],\n",
       "         [0.8784314 ]],\n",
       "\n",
       "        [[0.8784314 ],\n",
       "         [0.8784314 ],\n",
       "         [0.87058824],\n",
       "         ...,\n",
       "         [0.9019608 ],\n",
       "         [0.8980392 ],\n",
       "         [0.9019608 ]],\n",
       "\n",
       "        ...,\n",
       "\n",
       "        [[0.3137255 ],\n",
       "         [0.30588236],\n",
       "         [0.2901961 ],\n",
       "         ...,\n",
       "         [0.8862745 ],\n",
       "         [0.8862745 ],\n",
       "         [0.8784314 ]],\n",
       "\n",
       "        [[0.3019608 ],\n",
       "         [0.2901961 ],\n",
       "         [0.29411766],\n",
       "         ...,\n",
       "         [0.90588236],\n",
       "         [0.8784314 ],\n",
       "         [0.87058824]],\n",
       "\n",
       "        [[0.35686275],\n",
       "         [0.3372549 ],\n",
       "         [0.34509805],\n",
       "         ...,\n",
       "         [0.8901961 ],\n",
       "         [0.8784314 ],\n",
       "         [0.88235295]]]], dtype=float32)"
      ]
     },
     "execution_count": 14,
     "metadata": {},
     "output_type": "execute_result"
    }
   ],
   "source": [
    "small_images"
   ]
  },
  {
   "cell_type": "code",
   "execution_count": 15,
   "metadata": {},
   "outputs": [
    {
     "data": {
      "text/plain": [
       "37"
      ]
     },
     "execution_count": 15,
     "metadata": {},
     "output_type": "execute_result"
    }
   ],
   "source": [
    "len(small_images)"
   ]
  },
  {
   "cell_type": "code",
   "execution_count": 16,
   "metadata": {},
   "outputs": [
    {
     "data": {
      "text/plain": [
       "79"
      ]
     },
     "execution_count": 16,
     "metadata": {},
     "output_type": "execute_result"
    }
   ],
   "source": [
    "len(big_images)"
   ]
  },
  {
   "cell_type": "code",
   "execution_count": 17,
   "metadata": {},
   "outputs": [
    {
     "data": {
      "text/plain": [
       "11"
      ]
     },
     "execution_count": 17,
     "metadata": {},
     "output_type": "execute_result"
    }
   ],
   "source": [
    "len(small_images_val)"
   ]
  },
  {
   "cell_type": "code",
   "execution_count": 18,
   "metadata": {},
   "outputs": [
    {
     "data": {
      "text/plain": [
       "17"
      ]
     },
     "execution_count": 18,
     "metadata": {},
     "output_type": "execute_result"
    }
   ],
   "source": [
    "len(big_images_val)"
   ]
  },
  {
   "cell_type": "code",
   "execution_count": 19,
   "metadata": {},
   "outputs": [],
   "source": [
    "from random import shuffle"
   ]
  },
  {
   "cell_type": "code",
   "execution_count": 20,
   "metadata": {},
   "outputs": [],
   "source": [
    "def Batch_generator(s_img,b_img,s_lab,b_lab):\n",
    "    while True:\n",
    "        small_images_s=[]\n",
    "        big_images_s=[]\n",
    "        small_labels_s=[]\n",
    "        big_labels_s=[]\n",
    "        s=list(range(len(s_img)))\n",
    "        b=list(range(len(b_img)))\n",
    "        shuffle(s)\n",
    "        shuffle(b)\n",
    "        for i in range(len(s_img)):\n",
    "            k=s[i]\n",
    "            small_images_s.append(s_img[k])\n",
    "            small_labels_s.append(s_lab[k])\n",
    "        for i in range(len(b_img)):\n",
    "            k=b[i]\n",
    "            big_images_s.append(b_img[k])\n",
    "            big_labels_s.append(b_lab[k])\n",
    "        le=len(s_img)+len(b_img)\n",
    "        if le>=72: #training data recieved\n",
    "            a=8\n",
    "            b=15\n",
    "            c=2\n",
    "            d=4\n",
    "            e=35\n",
    "            f=25\n",
    "            g=5    #batch size\n",
    "        if le<=72: #validation data recieved\n",
    "            a=3\n",
    "            b=4\n",
    "            c=1\n",
    "            d=2\n",
    "            e=10\n",
    "            f=16\n",
    "            g=5\n",
    "        for i in range(a):  \n",
    "            i=i*g #batch size of 5\n",
    "            if i==e:\n",
    "                j=i+c\n",
    "            else:\n",
    "                j=i+g\n",
    "            batch_image=np.array(small_images_s[i:j])\n",
    "            batch_label=np.array(small_labels_s[i:j])\n",
    "            yield (batch_image,batch_label)\n",
    "        for i in range(b): \n",
    "            i=i*g\n",
    "            if i==f:\n",
    "                j=i+d\n",
    "            else:\n",
    "                j=i+g\n",
    "            batch_image=np.array(big_images_s[i:j])\n",
    "            batch_label=np.array(big_labels_s[i:j])\n",
    "            yield (batch_image,batch_label)\n",
    "            "
   ]
  },
  {
   "cell_type": "markdown",
   "metadata": {},
   "source": [
    "# Creating Model"
   ]
  },
  {
   "cell_type": "code",
   "execution_count": 21,
   "metadata": {},
   "outputs": [],
   "source": [
    "from keras import backend as K\n",
    "if K.image_data_format() == 'channels_first':\n",
    "    input_shape = (1, None, 540)\n",
    "else:\n",
    "    input_shape = (None, 540, 1)"
   ]
  },
  {
   "cell_type": "code",
   "execution_count": 22,
   "metadata": {},
   "outputs": [
    {
     "data": {
      "text/plain": [
       "(None, 540, 1)"
      ]
     },
     "execution_count": 22,
     "metadata": {},
     "output_type": "execute_result"
    }
   ],
   "source": [
    "input_shape"
   ]
  },
  {
   "cell_type": "code",
   "execution_count": 23,
   "metadata": {},
   "outputs": [],
   "source": [
    "from keras import models\n",
    "from keras import layers"
   ]
  },
  {
   "cell_type": "code",
   "execution_count": 24,
   "metadata": {},
   "outputs": [],
   "source": [
    "network = models.Sequential()\n",
    "network.add(layers.Conv2D(32, (3, 3), activation='relu', padding='same',input_shape=input_shape))\n",
    "network.add(layers.MaxPooling2D((2, 2), padding='same'))\n",
    "network.add(layers.Conv2D(32, (3, 3), activation='relu', padding='same'))\n",
    "network.add(layers.Conv2D(32, (3, 3), activation='relu', padding='same'))\n",
    "network.add(layers.Conv2D(32, (3, 3), activation='relu', padding='same'))\n",
    "network.add(layers.Conv2D(32, (3, 3), activation='relu', padding='same'))\n",
    "network.add(layers.Conv2D(32, (3, 3), activation='relu', padding='same'))\n",
    "network.add(layers.Conv2D(32, (3, 3), activation='relu', padding='same'))\n",
    "network.add(layers.UpSampling2D((2, 2)))\n",
    "network.add(layers.Conv2D(1, (3, 3), activation='sigmoid', padding='same'))\n"
   ]
  },
  {
   "cell_type": "code",
   "execution_count": 25,
   "metadata": {},
   "outputs": [
    {
     "name": "stdout",
     "output_type": "stream",
     "text": [
      "_________________________________________________________________\n",
      "Layer (type)                 Output Shape              Param #   \n",
      "=================================================================\n",
      "conv2d_1 (Conv2D)            (None, None, 540, 32)     320       \n",
      "_________________________________________________________________\n",
      "max_pooling2d_1 (MaxPooling2 (None, None, 270, 32)     0         \n",
      "_________________________________________________________________\n",
      "conv2d_2 (Conv2D)            (None, None, 270, 32)     9248      \n",
      "_________________________________________________________________\n",
      "conv2d_3 (Conv2D)            (None, None, 270, 32)     9248      \n",
      "_________________________________________________________________\n",
      "conv2d_4 (Conv2D)            (None, None, 270, 32)     9248      \n",
      "_________________________________________________________________\n",
      "conv2d_5 (Conv2D)            (None, None, 270, 32)     9248      \n",
      "_________________________________________________________________\n",
      "conv2d_6 (Conv2D)            (None, None, 270, 32)     9248      \n",
      "_________________________________________________________________\n",
      "conv2d_7 (Conv2D)            (None, None, 270, 32)     9248      \n",
      "_________________________________________________________________\n",
      "up_sampling2d_1 (UpSampling2 (None, None, 540, 32)     0         \n",
      "_________________________________________________________________\n",
      "conv2d_8 (Conv2D)            (None, None, 540, 1)      289       \n",
      "=================================================================\n",
      "Total params: 56,097\n",
      "Trainable params: 56,097\n",
      "Non-trainable params: 0\n",
      "_________________________________________________________________\n"
     ]
    }
   ],
   "source": [
    "network.summary()"
   ]
  },
  {
   "cell_type": "code",
   "execution_count": 26,
   "metadata": {},
   "outputs": [],
   "source": [
    "network2 = keras.utils.multi_gpu_model(network,gpus=2) #model for 2 GPUs"
   ]
  },
  {
   "cell_type": "markdown",
   "metadata": {},
   "source": [
    "# Compiling Model"
   ]
  },
  {
   "cell_type": "code",
   "execution_count": 27,
   "metadata": {},
   "outputs": [],
   "source": [
    "network.compile(optimizer='adadelta', loss='binary_crossentropy',metrics=[\"accuracy\"])\n",
    "network2.compile(optimizer='adadelta', loss='binary_crossentropy', metrics=[\"accuracy\"])"
   ]
  },
  {
   "cell_type": "markdown",
   "metadata": {},
   "source": [
    "# Training Model"
   ]
  },
  {
   "cell_type": "code",
   "execution_count": 28,
   "metadata": {},
   "outputs": [
    {
     "name": "stdout",
     "output_type": "stream",
     "text": [
      "Epoch 1/200\n",
      "22/23 [===========================>..] - ETA: 0s - loss: 0.4076 - acc: 0.6900"
     ]
    },
    {
     "ename": "InternalError",
     "evalue": "CUB segmented reduce errorinvalid configuration argument\n\t [[Node: loss_1/conv2d_8_loss/Mean_1 = Mean[T=DT_FLOAT, Tidx=DT_INT32, keep_dims=false, _device=\"/job:localhost/replica:0/task:0/device:GPU:0\"](loss_1/conv2d_8_loss/Mean, loss_1/conv2d_8_loss/Mean_1/reduction_indices)]]\n\nCaused by op 'loss_1/conv2d_8_loss/Mean_1', defined at:\n  File \"/home/pedro/anaconda3/envs/EA979/lib/python3.5/runpy.py\", line 193, in _run_module_as_main\n    \"__main__\", mod_spec)\n  File \"/home/pedro/anaconda3/envs/EA979/lib/python3.5/runpy.py\", line 85, in _run_code\n    exec(code, run_globals)\n  File \"/home/pedro/anaconda3/envs/EA979/lib/python3.5/site-packages/ipykernel/__main__.py\", line 3, in <module>\n    app.launch_new_instance()\n  File \"/home/pedro/anaconda3/envs/EA979/lib/python3.5/site-packages/traitlets/config/application.py\", line 658, in launch_instance\n    app.start()\n  File \"/home/pedro/anaconda3/envs/EA979/lib/python3.5/site-packages/ipykernel/kernelapp.py\", line 486, in start\n    self.io_loop.start()\n  File \"/home/pedro/anaconda3/envs/EA979/lib/python3.5/site-packages/tornado/platform/asyncio.py\", line 127, in start\n    self.asyncio_loop.run_forever()\n  File \"/home/pedro/anaconda3/envs/EA979/lib/python3.5/asyncio/base_events.py\", line 421, in run_forever\n    self._run_once()\n  File \"/home/pedro/anaconda3/envs/EA979/lib/python3.5/asyncio/base_events.py\", line 1425, in _run_once\n    handle._run()\n  File \"/home/pedro/anaconda3/envs/EA979/lib/python3.5/asyncio/events.py\", line 127, in _run\n    self._callback(*self._args)\n  File \"/home/pedro/anaconda3/envs/EA979/lib/python3.5/site-packages/tornado/ioloop.py\", line 759, in _run_callback\n    ret = callback()\n  File \"/home/pedro/anaconda3/envs/EA979/lib/python3.5/site-packages/tornado/stack_context.py\", line 276, in null_wrapper\n    return fn(*args, **kwargs)\n  File \"/home/pedro/anaconda3/envs/EA979/lib/python3.5/site-packages/zmq/eventloop/zmqstream.py\", line 536, in <lambda>\n    self.io_loop.add_callback(lambda : self._handle_events(self.socket, 0))\n  File \"/home/pedro/anaconda3/envs/EA979/lib/python3.5/site-packages/zmq/eventloop/zmqstream.py\", line 450, in _handle_events\n    self._handle_recv()\n  File \"/home/pedro/anaconda3/envs/EA979/lib/python3.5/site-packages/zmq/eventloop/zmqstream.py\", line 480, in _handle_recv\n    self._run_callback(callback, msg)\n  File \"/home/pedro/anaconda3/envs/EA979/lib/python3.5/site-packages/zmq/eventloop/zmqstream.py\", line 432, in _run_callback\n    callback(*args, **kwargs)\n  File \"/home/pedro/anaconda3/envs/EA979/lib/python3.5/site-packages/tornado/stack_context.py\", line 276, in null_wrapper\n    return fn(*args, **kwargs)\n  File \"/home/pedro/anaconda3/envs/EA979/lib/python3.5/site-packages/ipykernel/kernelbase.py\", line 283, in dispatcher\n    return self.dispatch_shell(stream, msg)\n  File \"/home/pedro/anaconda3/envs/EA979/lib/python3.5/site-packages/ipykernel/kernelbase.py\", line 233, in dispatch_shell\n    handler(stream, idents, msg)\n  File \"/home/pedro/anaconda3/envs/EA979/lib/python3.5/site-packages/ipykernel/kernelbase.py\", line 399, in execute_request\n    user_expressions, allow_stdin)\n  File \"/home/pedro/anaconda3/envs/EA979/lib/python3.5/site-packages/ipykernel/ipkernel.py\", line 208, in do_execute\n    res = shell.run_cell(code, store_history=store_history, silent=silent)\n  File \"/home/pedro/anaconda3/envs/EA979/lib/python3.5/site-packages/ipykernel/zmqshell.py\", line 537, in run_cell\n    return super(ZMQInteractiveShell, self).run_cell(*args, **kwargs)\n  File \"/home/pedro/anaconda3/envs/EA979/lib/python3.5/site-packages/IPython/core/interactiveshell.py\", line 2662, in run_cell\n    raw_cell, store_history, silent, shell_futures)\n  File \"/home/pedro/anaconda3/envs/EA979/lib/python3.5/site-packages/IPython/core/interactiveshell.py\", line 2785, in _run_cell\n    interactivity=interactivity, compiler=compiler, result=result)\n  File \"/home/pedro/anaconda3/envs/EA979/lib/python3.5/site-packages/IPython/core/interactiveshell.py\", line 2909, in run_ast_nodes\n    if self.run_code(code, result):\n  File \"/home/pedro/anaconda3/envs/EA979/lib/python3.5/site-packages/IPython/core/interactiveshell.py\", line 2963, in run_code\n    exec(code_obj, self.user_global_ns, self.user_ns)\n  File \"<ipython-input-27-91cab47d9e4a>\", line 2, in <module>\n    network2.compile(optimizer='adadelta', loss='binary_crossentropy', metrics=[\"accuracy\"])\n  File \"/home/pedro/anaconda3/envs/EA979/lib/python3.5/site-packages/keras/engine/training.py\", line 830, in compile\n    sample_weight, mask)\n  File \"/home/pedro/anaconda3/envs/EA979/lib/python3.5/site-packages/keras/engine/training.py\", line 444, in weighted\n    score_array = K.mean(score_array, axis=list(range(weight_ndim, ndim)))\n  File \"/home/pedro/anaconda3/envs/EA979/lib/python3.5/site-packages/keras/backend/tensorflow_backend.py\", line 1367, in mean\n    return tf.reduce_mean(x, axis, keepdims)\n  File \"/home/pedro/anaconda3/envs/EA979/lib/python3.5/site-packages/tensorflow/python/ops/math_ops.py\", line 1411, in reduce_mean\n    name=name)\n  File \"/home/pedro/anaconda3/envs/EA979/lib/python3.5/site-packages/tensorflow/python/ops/gen_math_ops.py\", line 2568, in _mean\n    keep_dims=keep_dims, name=name)\n  File \"/home/pedro/anaconda3/envs/EA979/lib/python3.5/site-packages/tensorflow/python/framework/op_def_library.py\", line 787, in _apply_op_helper\n    op_def=op_def)\n  File \"/home/pedro/anaconda3/envs/EA979/lib/python3.5/site-packages/tensorflow/python/framework/ops.py\", line 2956, in create_op\n    op_def=op_def)\n  File \"/home/pedro/anaconda3/envs/EA979/lib/python3.5/site-packages/tensorflow/python/framework/ops.py\", line 1470, in __init__\n    self._traceback = self._graph._extract_stack()  # pylint: disable=protected-access\n\nInternalError (see above for traceback): CUB segmented reduce errorinvalid configuration argument\n\t [[Node: loss_1/conv2d_8_loss/Mean_1 = Mean[T=DT_FLOAT, Tidx=DT_INT32, keep_dims=false, _device=\"/job:localhost/replica:0/task:0/device:GPU:0\"](loss_1/conv2d_8_loss/Mean, loss_1/conv2d_8_loss/Mean_1/reduction_indices)]]\n",
     "output_type": "error",
     "traceback": [
      "\u001b[0;31m---------------------------------------------------------------------------\u001b[0m",
      "\u001b[0;31mInternalError\u001b[0m                             Traceback (most recent call last)",
      "\u001b[0;32m~/anaconda3/envs/EA979/lib/python3.5/site-packages/tensorflow/python/client/session.py\u001b[0m in \u001b[0;36m_do_call\u001b[0;34m(self, fn, *args)\u001b[0m\n\u001b[1;32m   1322\u001b[0m     \u001b[0;32mtry\u001b[0m\u001b[0;34m:\u001b[0m\u001b[0;34m\u001b[0m\u001b[0m\n\u001b[0;32m-> 1323\u001b[0;31m       \u001b[0;32mreturn\u001b[0m \u001b[0mfn\u001b[0m\u001b[0;34m(\u001b[0m\u001b[0;34m*\u001b[0m\u001b[0margs\u001b[0m\u001b[0;34m)\u001b[0m\u001b[0;34m\u001b[0m\u001b[0m\n\u001b[0m\u001b[1;32m   1324\u001b[0m     \u001b[0;32mexcept\u001b[0m \u001b[0merrors\u001b[0m\u001b[0;34m.\u001b[0m\u001b[0mOpError\u001b[0m \u001b[0;32mas\u001b[0m \u001b[0me\u001b[0m\u001b[0;34m:\u001b[0m\u001b[0;34m\u001b[0m\u001b[0m\n",
      "\u001b[0;32m~/anaconda3/envs/EA979/lib/python3.5/site-packages/tensorflow/python/client/session.py\u001b[0m in \u001b[0;36m_run_fn\u001b[0;34m(session, feed_dict, fetch_list, target_list, options, run_metadata)\u001b[0m\n\u001b[1;32m   1301\u001b[0m                                    \u001b[0mfeed_dict\u001b[0m\u001b[0;34m,\u001b[0m \u001b[0mfetch_list\u001b[0m\u001b[0;34m,\u001b[0m \u001b[0mtarget_list\u001b[0m\u001b[0;34m,\u001b[0m\u001b[0;34m\u001b[0m\u001b[0m\n\u001b[0;32m-> 1302\u001b[0;31m                                    status, run_metadata)\n\u001b[0m\u001b[1;32m   1303\u001b[0m \u001b[0;34m\u001b[0m\u001b[0m\n",
      "\u001b[0;32m~/anaconda3/envs/EA979/lib/python3.5/site-packages/tensorflow/python/framework/errors_impl.py\u001b[0m in \u001b[0;36m__exit__\u001b[0;34m(self, type_arg, value_arg, traceback_arg)\u001b[0m\n\u001b[1;32m    472\u001b[0m             \u001b[0mcompat\u001b[0m\u001b[0;34m.\u001b[0m\u001b[0mas_text\u001b[0m\u001b[0;34m(\u001b[0m\u001b[0mc_api\u001b[0m\u001b[0;34m.\u001b[0m\u001b[0mTF_Message\u001b[0m\u001b[0;34m(\u001b[0m\u001b[0mself\u001b[0m\u001b[0;34m.\u001b[0m\u001b[0mstatus\u001b[0m\u001b[0;34m.\u001b[0m\u001b[0mstatus\u001b[0m\u001b[0;34m)\u001b[0m\u001b[0;34m)\u001b[0m\u001b[0;34m,\u001b[0m\u001b[0;34m\u001b[0m\u001b[0m\n\u001b[0;32m--> 473\u001b[0;31m             c_api.TF_GetCode(self.status.status))\n\u001b[0m\u001b[1;32m    474\u001b[0m     \u001b[0;31m# Delete the underlying status object from memory otherwise it stays alive\u001b[0m\u001b[0;34m\u001b[0m\u001b[0;34m\u001b[0m\u001b[0m\n",
      "\u001b[0;31mInternalError\u001b[0m: CUB segmented reduce errorinvalid configuration argument\n\t [[Node: loss_1/conv2d_8_loss/Mean_1 = Mean[T=DT_FLOAT, Tidx=DT_INT32, keep_dims=false, _device=\"/job:localhost/replica:0/task:0/device:GPU:0\"](loss_1/conv2d_8_loss/Mean, loss_1/conv2d_8_loss/Mean_1/reduction_indices)]]",
      "\nDuring handling of the above exception, another exception occurred:\n",
      "\u001b[0;31mInternalError\u001b[0m                             Traceback (most recent call last)",
      "\u001b[0;32m<ipython-input-28-c561583b3ab9>\u001b[0m in \u001b[0;36m<module>\u001b[0;34m()\u001b[0m\n\u001b[1;32m      2\u001b[0m \u001b[0mgen\u001b[0m\u001b[0;34m=\u001b[0m\u001b[0mBatch_generator\u001b[0m\u001b[0;34m(\u001b[0m\u001b[0msmall_images\u001b[0m\u001b[0;34m,\u001b[0m\u001b[0mbig_images\u001b[0m\u001b[0;34m,\u001b[0m\u001b[0msmall_labels\u001b[0m\u001b[0;34m,\u001b[0m\u001b[0mbig_labels\u001b[0m\u001b[0;34m)\u001b[0m\u001b[0;34m\u001b[0m\u001b[0m\n\u001b[1;32m      3\u001b[0m \u001b[0mval\u001b[0m\u001b[0;34m=\u001b[0m\u001b[0mBatch_generator\u001b[0m\u001b[0;34m(\u001b[0m\u001b[0msmall_images_val\u001b[0m\u001b[0;34m,\u001b[0m\u001b[0mbig_images_val\u001b[0m\u001b[0;34m,\u001b[0m\u001b[0msmall_labels_val\u001b[0m\u001b[0;34m,\u001b[0m\u001b[0mbig_labels_val\u001b[0m\u001b[0;34m)\u001b[0m\u001b[0;34m\u001b[0m\u001b[0m\n\u001b[0;32m----> 4\u001b[0;31m \u001b[0mhistory\u001b[0m \u001b[0;34m=\u001b[0m \u001b[0mnetwork2\u001b[0m\u001b[0;34m.\u001b[0m\u001b[0mfit_generator\u001b[0m\u001b[0;34m(\u001b[0m\u001b[0mgenerator\u001b[0m\u001b[0;34m=\u001b[0m\u001b[0mgen\u001b[0m\u001b[0;34m,\u001b[0m\u001b[0msteps_per_epoch\u001b[0m\u001b[0;34m=\u001b[0m\u001b[0;36m23\u001b[0m\u001b[0;34m,\u001b[0m\u001b[0mepochs\u001b[0m\u001b[0;34m=\u001b[0m\u001b[0;36m200\u001b[0m\u001b[0;34m,\u001b[0m\u001b[0mvalidation_data\u001b[0m\u001b[0;34m=\u001b[0m\u001b[0mval\u001b[0m\u001b[0;34m,\u001b[0m\u001b[0mvalidation_steps\u001b[0m\u001b[0;34m=\u001b[0m\u001b[0;36m14\u001b[0m\u001b[0;34m,\u001b[0m\u001b[0mcallbacks\u001b[0m\u001b[0;34m=\u001b[0m\u001b[0;34m[\u001b[0m\u001b[0mearlystop\u001b[0m\u001b[0;34m]\u001b[0m\u001b[0;34m)\u001b[0m\u001b[0;34m\u001b[0m\u001b[0m\n\u001b[0m",
      "\u001b[0;32m~/anaconda3/envs/EA979/lib/python3.5/site-packages/keras/legacy/interfaces.py\u001b[0m in \u001b[0;36mwrapper\u001b[0;34m(*args, **kwargs)\u001b[0m\n\u001b[1;32m     89\u001b[0m                 warnings.warn('Update your `' + object_name +\n\u001b[1;32m     90\u001b[0m                               '` call to the Keras 2 API: ' + signature, stacklevel=2)\n\u001b[0;32m---> 91\u001b[0;31m             \u001b[0;32mreturn\u001b[0m \u001b[0mfunc\u001b[0m\u001b[0;34m(\u001b[0m\u001b[0;34m*\u001b[0m\u001b[0margs\u001b[0m\u001b[0;34m,\u001b[0m \u001b[0;34m**\u001b[0m\u001b[0mkwargs\u001b[0m\u001b[0;34m)\u001b[0m\u001b[0;34m\u001b[0m\u001b[0m\n\u001b[0m\u001b[1;32m     92\u001b[0m         \u001b[0mwrapper\u001b[0m\u001b[0;34m.\u001b[0m\u001b[0m_original_function\u001b[0m \u001b[0;34m=\u001b[0m \u001b[0mfunc\u001b[0m\u001b[0;34m\u001b[0m\u001b[0m\n\u001b[1;32m     93\u001b[0m         \u001b[0;32mreturn\u001b[0m \u001b[0mwrapper\u001b[0m\u001b[0;34m\u001b[0m\u001b[0m\n",
      "\u001b[0;32m~/anaconda3/envs/EA979/lib/python3.5/site-packages/keras/engine/training.py\u001b[0m in \u001b[0;36mfit_generator\u001b[0;34m(self, generator, steps_per_epoch, epochs, verbose, callbacks, validation_data, validation_steps, class_weight, max_queue_size, workers, use_multiprocessing, shuffle, initial_epoch)\u001b[0m\n\u001b[1;32m   2242\u001b[0m                                 \u001b[0mworkers\u001b[0m\u001b[0;34m=\u001b[0m\u001b[0mworkers\u001b[0m\u001b[0;34m,\u001b[0m\u001b[0;34m\u001b[0m\u001b[0m\n\u001b[1;32m   2243\u001b[0m                                 \u001b[0muse_multiprocessing\u001b[0m\u001b[0;34m=\u001b[0m\u001b[0muse_multiprocessing\u001b[0m\u001b[0;34m,\u001b[0m\u001b[0;34m\u001b[0m\u001b[0m\n\u001b[0;32m-> 2244\u001b[0;31m                                 max_queue_size=max_queue_size)\n\u001b[0m\u001b[1;32m   2245\u001b[0m                         \u001b[0;32melse\u001b[0m\u001b[0;34m:\u001b[0m\u001b[0;34m\u001b[0m\u001b[0m\n\u001b[1;32m   2246\u001b[0m                             \u001b[0;31m# No need for try/except because\u001b[0m\u001b[0;34m\u001b[0m\u001b[0;34m\u001b[0m\u001b[0m\n",
      "\u001b[0;32m~/anaconda3/envs/EA979/lib/python3.5/site-packages/keras/legacy/interfaces.py\u001b[0m in \u001b[0;36mwrapper\u001b[0;34m(*args, **kwargs)\u001b[0m\n\u001b[1;32m     89\u001b[0m                 warnings.warn('Update your `' + object_name +\n\u001b[1;32m     90\u001b[0m                               '` call to the Keras 2 API: ' + signature, stacklevel=2)\n\u001b[0;32m---> 91\u001b[0;31m             \u001b[0;32mreturn\u001b[0m \u001b[0mfunc\u001b[0m\u001b[0;34m(\u001b[0m\u001b[0;34m*\u001b[0m\u001b[0margs\u001b[0m\u001b[0;34m,\u001b[0m \u001b[0;34m**\u001b[0m\u001b[0mkwargs\u001b[0m\u001b[0;34m)\u001b[0m\u001b[0;34m\u001b[0m\u001b[0m\n\u001b[0m\u001b[1;32m     92\u001b[0m         \u001b[0mwrapper\u001b[0m\u001b[0;34m.\u001b[0m\u001b[0m_original_function\u001b[0m \u001b[0;34m=\u001b[0m \u001b[0mfunc\u001b[0m\u001b[0;34m\u001b[0m\u001b[0m\n\u001b[1;32m     93\u001b[0m         \u001b[0;32mreturn\u001b[0m \u001b[0mwrapper\u001b[0m\u001b[0;34m\u001b[0m\u001b[0m\n",
      "\u001b[0;32m~/anaconda3/envs/EA979/lib/python3.5/site-packages/keras/engine/training.py\u001b[0m in \u001b[0;36mevaluate_generator\u001b[0;34m(self, generator, steps, max_queue_size, workers, use_multiprocessing)\u001b[0m\n\u001b[1;32m   2376\u001b[0m                                      \u001b[0;34m'or (x, y). Found: '\u001b[0m \u001b[0;34m+\u001b[0m\u001b[0;34m\u001b[0m\u001b[0m\n\u001b[1;32m   2377\u001b[0m                                      str(generator_output))\n\u001b[0;32m-> 2378\u001b[0;31m                 \u001b[0mouts\u001b[0m \u001b[0;34m=\u001b[0m \u001b[0mself\u001b[0m\u001b[0;34m.\u001b[0m\u001b[0mtest_on_batch\u001b[0m\u001b[0;34m(\u001b[0m\u001b[0mx\u001b[0m\u001b[0;34m,\u001b[0m \u001b[0my\u001b[0m\u001b[0;34m,\u001b[0m \u001b[0msample_weight\u001b[0m\u001b[0;34m=\u001b[0m\u001b[0msample_weight\u001b[0m\u001b[0;34m)\u001b[0m\u001b[0;34m\u001b[0m\u001b[0m\n\u001b[0m\u001b[1;32m   2379\u001b[0m \u001b[0;34m\u001b[0m\u001b[0m\n\u001b[1;32m   2380\u001b[0m                 \u001b[0;32mif\u001b[0m \u001b[0misinstance\u001b[0m\u001b[0;34m(\u001b[0m\u001b[0mx\u001b[0m\u001b[0;34m,\u001b[0m \u001b[0mlist\u001b[0m\u001b[0;34m)\u001b[0m\u001b[0;34m:\u001b[0m\u001b[0;34m\u001b[0m\u001b[0m\n",
      "\u001b[0;32m~/anaconda3/envs/EA979/lib/python3.5/site-packages/keras/engine/training.py\u001b[0m in \u001b[0;36mtest_on_batch\u001b[0;34m(self, x, y, sample_weight)\u001b[0m\n\u001b[1;32m   1922\u001b[0m             \u001b[0mins\u001b[0m \u001b[0;34m=\u001b[0m \u001b[0mx\u001b[0m \u001b[0;34m+\u001b[0m \u001b[0my\u001b[0m \u001b[0;34m+\u001b[0m \u001b[0msample_weights\u001b[0m\u001b[0;34m\u001b[0m\u001b[0m\n\u001b[1;32m   1923\u001b[0m         \u001b[0mself\u001b[0m\u001b[0;34m.\u001b[0m\u001b[0m_make_test_function\u001b[0m\u001b[0;34m(\u001b[0m\u001b[0;34m)\u001b[0m\u001b[0;34m\u001b[0m\u001b[0m\n\u001b[0;32m-> 1924\u001b[0;31m         \u001b[0moutputs\u001b[0m \u001b[0;34m=\u001b[0m \u001b[0mself\u001b[0m\u001b[0;34m.\u001b[0m\u001b[0mtest_function\u001b[0m\u001b[0;34m(\u001b[0m\u001b[0mins\u001b[0m\u001b[0;34m)\u001b[0m\u001b[0;34m\u001b[0m\u001b[0m\n\u001b[0m\u001b[1;32m   1925\u001b[0m         \u001b[0;32mif\u001b[0m \u001b[0mlen\u001b[0m\u001b[0;34m(\u001b[0m\u001b[0moutputs\u001b[0m\u001b[0;34m)\u001b[0m \u001b[0;34m==\u001b[0m \u001b[0;36m1\u001b[0m\u001b[0;34m:\u001b[0m\u001b[0;34m\u001b[0m\u001b[0m\n\u001b[1;32m   1926\u001b[0m             \u001b[0;32mreturn\u001b[0m \u001b[0moutputs\u001b[0m\u001b[0;34m[\u001b[0m\u001b[0;36m0\u001b[0m\u001b[0;34m]\u001b[0m\u001b[0;34m\u001b[0m\u001b[0m\n",
      "\u001b[0;32m~/anaconda3/envs/EA979/lib/python3.5/site-packages/keras/backend/tensorflow_backend.py\u001b[0m in \u001b[0;36m__call__\u001b[0;34m(self, inputs)\u001b[0m\n\u001b[1;32m   2476\u001b[0m         \u001b[0msession\u001b[0m \u001b[0;34m=\u001b[0m \u001b[0mget_session\u001b[0m\u001b[0;34m(\u001b[0m\u001b[0;34m)\u001b[0m\u001b[0;34m\u001b[0m\u001b[0m\n\u001b[1;32m   2477\u001b[0m         updated = session.run(fetches=fetches, feed_dict=feed_dict,\n\u001b[0;32m-> 2478\u001b[0;31m                               **self.session_kwargs)\n\u001b[0m\u001b[1;32m   2479\u001b[0m         \u001b[0;32mreturn\u001b[0m \u001b[0mupdated\u001b[0m\u001b[0;34m[\u001b[0m\u001b[0;34m:\u001b[0m\u001b[0mlen\u001b[0m\u001b[0;34m(\u001b[0m\u001b[0mself\u001b[0m\u001b[0;34m.\u001b[0m\u001b[0moutputs\u001b[0m\u001b[0;34m)\u001b[0m\u001b[0;34m]\u001b[0m\u001b[0;34m\u001b[0m\u001b[0m\n\u001b[1;32m   2480\u001b[0m \u001b[0;34m\u001b[0m\u001b[0m\n",
      "\u001b[0;32m~/anaconda3/envs/EA979/lib/python3.5/site-packages/tensorflow/python/client/session.py\u001b[0m in \u001b[0;36mrun\u001b[0;34m(self, fetches, feed_dict, options, run_metadata)\u001b[0m\n\u001b[1;32m    887\u001b[0m     \u001b[0;32mtry\u001b[0m\u001b[0;34m:\u001b[0m\u001b[0;34m\u001b[0m\u001b[0m\n\u001b[1;32m    888\u001b[0m       result = self._run(None, fetches, feed_dict, options_ptr,\n\u001b[0;32m--> 889\u001b[0;31m                          run_metadata_ptr)\n\u001b[0m\u001b[1;32m    890\u001b[0m       \u001b[0;32mif\u001b[0m \u001b[0mrun_metadata\u001b[0m\u001b[0;34m:\u001b[0m\u001b[0;34m\u001b[0m\u001b[0m\n\u001b[1;32m    891\u001b[0m         \u001b[0mproto_data\u001b[0m \u001b[0;34m=\u001b[0m \u001b[0mtf_session\u001b[0m\u001b[0;34m.\u001b[0m\u001b[0mTF_GetBuffer\u001b[0m\u001b[0;34m(\u001b[0m\u001b[0mrun_metadata_ptr\u001b[0m\u001b[0;34m)\u001b[0m\u001b[0;34m\u001b[0m\u001b[0m\n",
      "\u001b[0;32m~/anaconda3/envs/EA979/lib/python3.5/site-packages/tensorflow/python/client/session.py\u001b[0m in \u001b[0;36m_run\u001b[0;34m(self, handle, fetches, feed_dict, options, run_metadata)\u001b[0m\n\u001b[1;32m   1118\u001b[0m     \u001b[0;32mif\u001b[0m \u001b[0mfinal_fetches\u001b[0m \u001b[0;32mor\u001b[0m \u001b[0mfinal_targets\u001b[0m \u001b[0;32mor\u001b[0m \u001b[0;34m(\u001b[0m\u001b[0mhandle\u001b[0m \u001b[0;32mand\u001b[0m \u001b[0mfeed_dict_tensor\u001b[0m\u001b[0;34m)\u001b[0m\u001b[0;34m:\u001b[0m\u001b[0;34m\u001b[0m\u001b[0m\n\u001b[1;32m   1119\u001b[0m       results = self._do_run(handle, final_targets, final_fetches,\n\u001b[0;32m-> 1120\u001b[0;31m                              feed_dict_tensor, options, run_metadata)\n\u001b[0m\u001b[1;32m   1121\u001b[0m     \u001b[0;32melse\u001b[0m\u001b[0;34m:\u001b[0m\u001b[0;34m\u001b[0m\u001b[0m\n\u001b[1;32m   1122\u001b[0m       \u001b[0mresults\u001b[0m \u001b[0;34m=\u001b[0m \u001b[0;34m[\u001b[0m\u001b[0;34m]\u001b[0m\u001b[0;34m\u001b[0m\u001b[0m\n",
      "\u001b[0;32m~/anaconda3/envs/EA979/lib/python3.5/site-packages/tensorflow/python/client/session.py\u001b[0m in \u001b[0;36m_do_run\u001b[0;34m(self, handle, target_list, fetch_list, feed_dict, options, run_metadata)\u001b[0m\n\u001b[1;32m   1315\u001b[0m     \u001b[0;32mif\u001b[0m \u001b[0mhandle\u001b[0m \u001b[0;32mis\u001b[0m \u001b[0;32mNone\u001b[0m\u001b[0;34m:\u001b[0m\u001b[0;34m\u001b[0m\u001b[0m\n\u001b[1;32m   1316\u001b[0m       return self._do_call(_run_fn, self._session, feeds, fetches, targets,\n\u001b[0;32m-> 1317\u001b[0;31m                            options, run_metadata)\n\u001b[0m\u001b[1;32m   1318\u001b[0m     \u001b[0;32melse\u001b[0m\u001b[0;34m:\u001b[0m\u001b[0;34m\u001b[0m\u001b[0m\n\u001b[1;32m   1319\u001b[0m       \u001b[0;32mreturn\u001b[0m \u001b[0mself\u001b[0m\u001b[0;34m.\u001b[0m\u001b[0m_do_call\u001b[0m\u001b[0;34m(\u001b[0m\u001b[0m_prun_fn\u001b[0m\u001b[0;34m,\u001b[0m \u001b[0mself\u001b[0m\u001b[0;34m.\u001b[0m\u001b[0m_session\u001b[0m\u001b[0;34m,\u001b[0m \u001b[0mhandle\u001b[0m\u001b[0;34m,\u001b[0m \u001b[0mfeeds\u001b[0m\u001b[0;34m,\u001b[0m \u001b[0mfetches\u001b[0m\u001b[0;34m)\u001b[0m\u001b[0;34m\u001b[0m\u001b[0m\n",
      "\u001b[0;32m~/anaconda3/envs/EA979/lib/python3.5/site-packages/tensorflow/python/client/session.py\u001b[0m in \u001b[0;36m_do_call\u001b[0;34m(self, fn, *args)\u001b[0m\n\u001b[1;32m   1334\u001b[0m         \u001b[0;32mexcept\u001b[0m \u001b[0mKeyError\u001b[0m\u001b[0;34m:\u001b[0m\u001b[0;34m\u001b[0m\u001b[0m\n\u001b[1;32m   1335\u001b[0m           \u001b[0;32mpass\u001b[0m\u001b[0;34m\u001b[0m\u001b[0m\n\u001b[0;32m-> 1336\u001b[0;31m       \u001b[0;32mraise\u001b[0m \u001b[0mtype\u001b[0m\u001b[0;34m(\u001b[0m\u001b[0me\u001b[0m\u001b[0;34m)\u001b[0m\u001b[0;34m(\u001b[0m\u001b[0mnode_def\u001b[0m\u001b[0;34m,\u001b[0m \u001b[0mop\u001b[0m\u001b[0;34m,\u001b[0m \u001b[0mmessage\u001b[0m\u001b[0;34m)\u001b[0m\u001b[0;34m\u001b[0m\u001b[0m\n\u001b[0m\u001b[1;32m   1337\u001b[0m \u001b[0;34m\u001b[0m\u001b[0m\n\u001b[1;32m   1338\u001b[0m   \u001b[0;32mdef\u001b[0m \u001b[0m_extend_graph\u001b[0m\u001b[0;34m(\u001b[0m\u001b[0mself\u001b[0m\u001b[0;34m)\u001b[0m\u001b[0;34m:\u001b[0m\u001b[0;34m\u001b[0m\u001b[0m\n",
      "\u001b[0;31mInternalError\u001b[0m: CUB segmented reduce errorinvalid configuration argument\n\t [[Node: loss_1/conv2d_8_loss/Mean_1 = Mean[T=DT_FLOAT, Tidx=DT_INT32, keep_dims=false, _device=\"/job:localhost/replica:0/task:0/device:GPU:0\"](loss_1/conv2d_8_loss/Mean, loss_1/conv2d_8_loss/Mean_1/reduction_indices)]]\n\nCaused by op 'loss_1/conv2d_8_loss/Mean_1', defined at:\n  File \"/home/pedro/anaconda3/envs/EA979/lib/python3.5/runpy.py\", line 193, in _run_module_as_main\n    \"__main__\", mod_spec)\n  File \"/home/pedro/anaconda3/envs/EA979/lib/python3.5/runpy.py\", line 85, in _run_code\n    exec(code, run_globals)\n  File \"/home/pedro/anaconda3/envs/EA979/lib/python3.5/site-packages/ipykernel/__main__.py\", line 3, in <module>\n    app.launch_new_instance()\n  File \"/home/pedro/anaconda3/envs/EA979/lib/python3.5/site-packages/traitlets/config/application.py\", line 658, in launch_instance\n    app.start()\n  File \"/home/pedro/anaconda3/envs/EA979/lib/python3.5/site-packages/ipykernel/kernelapp.py\", line 486, in start\n    self.io_loop.start()\n  File \"/home/pedro/anaconda3/envs/EA979/lib/python3.5/site-packages/tornado/platform/asyncio.py\", line 127, in start\n    self.asyncio_loop.run_forever()\n  File \"/home/pedro/anaconda3/envs/EA979/lib/python3.5/asyncio/base_events.py\", line 421, in run_forever\n    self._run_once()\n  File \"/home/pedro/anaconda3/envs/EA979/lib/python3.5/asyncio/base_events.py\", line 1425, in _run_once\n    handle._run()\n  File \"/home/pedro/anaconda3/envs/EA979/lib/python3.5/asyncio/events.py\", line 127, in _run\n    self._callback(*self._args)\n  File \"/home/pedro/anaconda3/envs/EA979/lib/python3.5/site-packages/tornado/ioloop.py\", line 759, in _run_callback\n    ret = callback()\n  File \"/home/pedro/anaconda3/envs/EA979/lib/python3.5/site-packages/tornado/stack_context.py\", line 276, in null_wrapper\n    return fn(*args, **kwargs)\n  File \"/home/pedro/anaconda3/envs/EA979/lib/python3.5/site-packages/zmq/eventloop/zmqstream.py\", line 536, in <lambda>\n    self.io_loop.add_callback(lambda : self._handle_events(self.socket, 0))\n  File \"/home/pedro/anaconda3/envs/EA979/lib/python3.5/site-packages/zmq/eventloop/zmqstream.py\", line 450, in _handle_events\n    self._handle_recv()\n  File \"/home/pedro/anaconda3/envs/EA979/lib/python3.5/site-packages/zmq/eventloop/zmqstream.py\", line 480, in _handle_recv\n    self._run_callback(callback, msg)\n  File \"/home/pedro/anaconda3/envs/EA979/lib/python3.5/site-packages/zmq/eventloop/zmqstream.py\", line 432, in _run_callback\n    callback(*args, **kwargs)\n  File \"/home/pedro/anaconda3/envs/EA979/lib/python3.5/site-packages/tornado/stack_context.py\", line 276, in null_wrapper\n    return fn(*args, **kwargs)\n  File \"/home/pedro/anaconda3/envs/EA979/lib/python3.5/site-packages/ipykernel/kernelbase.py\", line 283, in dispatcher\n    return self.dispatch_shell(stream, msg)\n  File \"/home/pedro/anaconda3/envs/EA979/lib/python3.5/site-packages/ipykernel/kernelbase.py\", line 233, in dispatch_shell\n    handler(stream, idents, msg)\n  File \"/home/pedro/anaconda3/envs/EA979/lib/python3.5/site-packages/ipykernel/kernelbase.py\", line 399, in execute_request\n    user_expressions, allow_stdin)\n  File \"/home/pedro/anaconda3/envs/EA979/lib/python3.5/site-packages/ipykernel/ipkernel.py\", line 208, in do_execute\n    res = shell.run_cell(code, store_history=store_history, silent=silent)\n  File \"/home/pedro/anaconda3/envs/EA979/lib/python3.5/site-packages/ipykernel/zmqshell.py\", line 537, in run_cell\n    return super(ZMQInteractiveShell, self).run_cell(*args, **kwargs)\n  File \"/home/pedro/anaconda3/envs/EA979/lib/python3.5/site-packages/IPython/core/interactiveshell.py\", line 2662, in run_cell\n    raw_cell, store_history, silent, shell_futures)\n  File \"/home/pedro/anaconda3/envs/EA979/lib/python3.5/site-packages/IPython/core/interactiveshell.py\", line 2785, in _run_cell\n    interactivity=interactivity, compiler=compiler, result=result)\n  File \"/home/pedro/anaconda3/envs/EA979/lib/python3.5/site-packages/IPython/core/interactiveshell.py\", line 2909, in run_ast_nodes\n    if self.run_code(code, result):\n  File \"/home/pedro/anaconda3/envs/EA979/lib/python3.5/site-packages/IPython/core/interactiveshell.py\", line 2963, in run_code\n    exec(code_obj, self.user_global_ns, self.user_ns)\n  File \"<ipython-input-27-91cab47d9e4a>\", line 2, in <module>\n    network2.compile(optimizer='adadelta', loss='binary_crossentropy', metrics=[\"accuracy\"])\n  File \"/home/pedro/anaconda3/envs/EA979/lib/python3.5/site-packages/keras/engine/training.py\", line 830, in compile\n    sample_weight, mask)\n  File \"/home/pedro/anaconda3/envs/EA979/lib/python3.5/site-packages/keras/engine/training.py\", line 444, in weighted\n    score_array = K.mean(score_array, axis=list(range(weight_ndim, ndim)))\n  File \"/home/pedro/anaconda3/envs/EA979/lib/python3.5/site-packages/keras/backend/tensorflow_backend.py\", line 1367, in mean\n    return tf.reduce_mean(x, axis, keepdims)\n  File \"/home/pedro/anaconda3/envs/EA979/lib/python3.5/site-packages/tensorflow/python/ops/math_ops.py\", line 1411, in reduce_mean\n    name=name)\n  File \"/home/pedro/anaconda3/envs/EA979/lib/python3.5/site-packages/tensorflow/python/ops/gen_math_ops.py\", line 2568, in _mean\n    keep_dims=keep_dims, name=name)\n  File \"/home/pedro/anaconda3/envs/EA979/lib/python3.5/site-packages/tensorflow/python/framework/op_def_library.py\", line 787, in _apply_op_helper\n    op_def=op_def)\n  File \"/home/pedro/anaconda3/envs/EA979/lib/python3.5/site-packages/tensorflow/python/framework/ops.py\", line 2956, in create_op\n    op_def=op_def)\n  File \"/home/pedro/anaconda3/envs/EA979/lib/python3.5/site-packages/tensorflow/python/framework/ops.py\", line 1470, in __init__\n    self._traceback = self._graph._extract_stack()  # pylint: disable=protected-access\n\nInternalError (see above for traceback): CUB segmented reduce errorinvalid configuration argument\n\t [[Node: loss_1/conv2d_8_loss/Mean_1 = Mean[T=DT_FLOAT, Tidx=DT_INT32, keep_dims=false, _device=\"/job:localhost/replica:0/task:0/device:GPU:0\"](loss_1/conv2d_8_loss/Mean, loss_1/conv2d_8_loss/Mean_1/reduction_indices)]]\n"
     ]
    }
   ],
   "source": [
    "earlystop=keras.callbacks.EarlyStopping(monitor='val_loss',min_delta=0,patience=10)\n",
    "gen=Batch_generator(small_images,big_images,small_labels,big_labels) \n",
    "val=Batch_generator(small_images_val,big_images_val,small_labels_val,big_labels_val)\n",
    "history = network2.fit_generator(generator=gen,steps_per_epoch=23,epochs=200,validation_data=val,validation_steps=14,callbacks=[earlystop])"
   ]
  },
  {
   "cell_type": "markdown",
   "metadata": {},
   "source": [
    "# Training avaliation"
   ]
  },
  {
   "cell_type": "code",
   "execution_count": null,
   "metadata": {},
   "outputs": [],
   "source": [
    "acc = history.history['acc']\n",
    "val_acc = history.history['val_acc']\n",
    "loss = history.history['loss']\n",
    "val_loss = history.history['val_loss']\n",
    "\n",
    "epochs = range(len(acc))\n",
    "\n",
    "plt.plot(epochs, acc, 'b', label='Training acc')\n",
    "plt.plot(epochs, val_acc, 'b--', label='Validation acc')\n",
    "plt.title('Training and validation accuracy')\n",
    "plt.legend()\n",
    "\n",
    "plt.figure()\n",
    "\n",
    "plt.plot(epochs, loss, 'b', label='Training loss')\n",
    "plt.plot(epochs, val_loss, 'b--', label='Validation loss')\n",
    "plt.title('Training and validation loss')\n",
    "plt.legend()\n",
    "\n",
    "plt.show()\n"
   ]
  },
  {
   "cell_type": "code",
   "execution_count": null,
   "metadata": {},
   "outputs": [],
   "source": [
    "history.history['acc']"
   ]
  },
  {
   "cell_type": "markdown",
   "metadata": {},
   "source": [
    "# Saving Model and training results"
   ]
  },
  {
   "cell_type": "code",
   "execution_count": null,
   "metadata": {},
   "outputs": [],
   "source": [
    "import h5py               #save the network for 1 gpu\n",
    "network.set_weights(network2.get_weights())\n",
    "network.save('trained_network_v3_multi_size.h5')"
   ]
  },
  {
   "cell_type": "code",
   "execution_count": null,
   "metadata": {},
   "outputs": [],
   "source": [
    "result=network2.predict(np.array([big_images_val[5]]))"
   ]
  },
  {
   "cell_type": "code",
   "execution_count": null,
   "metadata": {},
   "outputs": [],
   "source": [
    "result"
   ]
  },
  {
   "cell_type": "code",
   "execution_count": null,
   "metadata": {},
   "outputs": [],
   "source": [
    "result=result*255\n",
    "result=result.astype('uint8')\n",
    "result=result.reshape(420,540)"
   ]
  },
  {
   "cell_type": "code",
   "execution_count": null,
   "metadata": {},
   "outputs": [],
   "source": [
    "result"
   ]
  },
  {
   "cell_type": "code",
   "execution_count": null,
   "metadata": {},
   "outputs": [],
   "source": [
    "plt.imshow(result, cmap='gray')"
   ]
  },
  {
   "cell_type": "markdown",
   "metadata": {},
   "source": [
    "# Importing Test Data"
   ]
  },
  {
   "cell_type": "code",
   "execution_count": null,
   "metadata": {},
   "outputs": [],
   "source": [
    "def import_test_images():\n",
    "    test_images=[]\n",
    "    files=os.listdir('/home/pedro/Documents/AutoEncoder/test')\n",
    "    print(files)\n",
    "    for file in files:\n",
    "        string='/home/pedro/Documents/AutoEncoder/test/'+file\n",
    "        image=png.Reader(filename=string)\n",
    "        w,h,pixels,metadata=image.read_flat()\n",
    "        image=np.array(pixels)\n",
    "        if len(image)==226800:\n",
    "            image=image[0:139320]                  #cut end of big images\n",
    "        image=image.reshape((258,540))\n",
    "        test_images.append(image)\n",
    "    return(test_images)"
   ]
  },
  {
   "cell_type": "code",
   "execution_count": null,
   "metadata": {},
   "outputs": [],
   "source": [
    "test_images=import_test_images()"
   ]
  },
  {
   "cell_type": "code",
   "execution_count": null,
   "metadata": {},
   "outputs": [],
   "source": [
    "test_images[1]"
   ]
  },
  {
   "cell_type": "code",
   "execution_count": null,
   "metadata": {},
   "outputs": [],
   "source": [
    "plt.imshow(test_images[50], cmap='gray')"
   ]
  },
  {
   "cell_type": "markdown",
   "metadata": {},
   "source": [
    "# Normalizing Test Data"
   ]
  },
  {
   "cell_type": "code",
   "execution_count": null,
   "metadata": {},
   "outputs": [],
   "source": [
    "test_images=np.array(test_images)\n",
    "test_images=test_images.astype('float32')/255"
   ]
  },
  {
   "cell_type": "code",
   "execution_count": null,
   "metadata": {},
   "outputs": [],
   "source": [
    "test_images[1]"
   ]
  },
  {
   "cell_type": "markdown",
   "metadata": {},
   "source": [
    "# Creating test input"
   ]
  },
  {
   "cell_type": "code",
   "execution_count": null,
   "metadata": {},
   "outputs": [],
   "source": [
    "rows = 258\n",
    "cols = 540\n",
    "if K.image_data_format() == 'channels_first':\n",
    "    test_images = test_images.reshape(test_images.shape[0], 1, rows, cols)\n",
    "    input_shape = (1, rows, cols)\n",
    "else:\n",
    "    test_images = test_images.reshape(test_images.shape[0], rows, cols, 1)\n",
    "    input_shape = (rows, cols, 1)"
   ]
  },
  {
   "cell_type": "markdown",
   "metadata": {},
   "source": [
    "# Running network on test data"
   ]
  },
  {
   "cell_type": "code",
   "execution_count": null,
   "metadata": {},
   "outputs": [],
   "source": [
    "test_result=network2.predict(test_images)"
   ]
  },
  {
   "cell_type": "code",
   "execution_count": null,
   "metadata": {},
   "outputs": [],
   "source": [
    "test_result[1]"
   ]
  },
  {
   "cell_type": "code",
   "execution_count": null,
   "metadata": {},
   "outputs": [],
   "source": [
    "example=test_result[70]\n",
    "example=example*255\n",
    "example=example.astype('uint8')\n",
    "example=example.reshape(258,540)"
   ]
  },
  {
   "cell_type": "code",
   "execution_count": null,
   "metadata": {},
   "outputs": [],
   "source": [
    "plt.imshow(example, cmap='gray')"
   ]
  },
  {
   "cell_type": "code",
   "execution_count": null,
   "metadata": {},
   "outputs": [],
   "source": [
    "pre_example=test_images[70]\n",
    "pre_example=pre_example*255\n",
    "pre_example=pre_example.astype('uint8')\n",
    "pre_example=pre_example.reshape(258,540)"
   ]
  },
  {
   "cell_type": "code",
   "execution_count": null,
   "metadata": {},
   "outputs": [],
   "source": [
    "plt.imshow(pre_example, cmap='gray')"
   ]
  },
  {
   "cell_type": "code",
   "execution_count": null,
   "metadata": {},
   "outputs": [],
   "source": []
  }
 ],
 "metadata": {
  "kernelspec": {
   "display_name": "Python [conda env:EA979]",
   "language": "python",
   "name": "conda-env-EA979-py"
  },
  "language_info": {
   "codemirror_mode": {
    "name": "ipython",
    "version": 3
   },
   "file_extension": ".py",
   "mimetype": "text/x-python",
   "name": "python",
   "nbconvert_exporter": "python",
   "pygments_lexer": "ipython3",
   "version": "3.5.5"
  }
 },
 "nbformat": 4,
 "nbformat_minor": 2
}
